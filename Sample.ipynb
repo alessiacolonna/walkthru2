{
 "cells": [
  {
   "cell_type": "markdown",
   "id": "9ff09a50-176b-4812-9c06-3255af12b2a9",
   "metadata": {
    "tags": []
   },
   "source": [
    "## Walkthru sample notebook"
   ]
  },
  {
   "cell_type": "markdown",
   "id": "dc1db72c-004f-4124-87f2-e80e772f0157",
   "metadata": {
    "tags": []
   },
   "source": [
    "Here is how I calculate '1+1'"
   ]
  },
  {
   "cell_type": "code",
   "execution_count": 6,
   "id": "84c32d1a-ab50-4869-9afc-5625371020c0",
   "metadata": {
    "tags": []
   },
   "outputs": [
    {
     "data": {
      "text/plain": [
       "2"
      ]
     },
     "execution_count": 6,
     "metadata": {},
     "output_type": "execute_result"
    }
   ],
   "source": [
    "1+1"
   ]
  },
  {
   "cell_type": "code",
   "execution_count": 7,
   "id": "7699c0cf-c610-460e-b818-8b8da3474dc0",
   "metadata": {
    "tags": []
   },
   "outputs": [],
   "source": [
    "from numpy import *"
   ]
  },
  {
   "cell_type": "markdown",
   "id": "6d70a309-cf19-4608-90c6-063d1a01336b",
   "metadata": {
    "tags": []
   },
   "source": [
    "Here is how I calculate 'sin': "
   ]
  },
  {
   "cell_type": "code",
   "execution_count": 10,
   "id": "5a96e112-cc4f-4f84-8311-efd78b1e250c",
   "metadata": {
    "tags": []
   },
   "outputs": [
    {
     "data": {
      "text/plain": [
       "array([0.84147098, 0.        , 1.        ])"
      ]
     },
     "execution_count": 10,
     "metadata": {},
     "output_type": "execute_result"
    }
   ],
   "source": [
    "a = array([1, 0, pi/2])\n",
    "sin(a)"
   ]
  },
  {
   "cell_type": "code",
   "execution_count": null,
   "id": "b9cad06b-426e-4d07-9f41-7282e9c37cca",
   "metadata": {},
   "outputs": [],
   "source": []
  }
 ],
 "metadata": {
  "kernelspec": {
   "display_name": "Python 3 (ipykernel)",
   "language": "python",
   "name": "python3"
  },
  "language_info": {
   "codemirror_mode": {
    "name": "ipython",
    "version": 3
   },
   "file_extension": ".py",
   "mimetype": "text/x-python",
   "name": "python",
   "nbconvert_exporter": "python",
   "pygments_lexer": "ipython3",
   "version": "3.10.10"
  }
 },
 "nbformat": 4,
 "nbformat_minor": 5
}
